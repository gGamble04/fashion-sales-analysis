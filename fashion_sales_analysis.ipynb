{
 "cells": [
  {
   "cell_type": "markdown",
   "id": "75fc4256-6c8e-43a8-a92b-ca53839c6faa",
   "metadata": {},
   "source": [
    "# Fashion Retail Sales Analysis\n",
    "\n",
    "An end-to-end analysis of a fashion company's retail transaction data using Python.\n",
    "\n",
    "This notebook explores:\n",
    "- Revenue trends\n",
    "- Customer spending behavior\n",
    "- Product performance\n",
    "- Review ratings\n",
    "- Correlation between sales and customer reviews\n"
   ]
  },
  {
   "cell_type": "code",
   "execution_count": null,
   "id": "00a18c30-ffac-4398-bb4a-2c2dd3aae935",
   "metadata": {},
   "outputs": [],
   "source": [
    "import pandas as pd\n",
    "import matplotlib.pyplot as plt\n",
    "import seaborn as sns\n",
    "from fashion_sales_data import *\n",
    "\n",
    "sales_data = pd.read_csv(\"data/Fashion_Retail_Sales.csv\")\n",
    "sales_data.head()\n"
   ]
  },
  {
   "cell_type": "markdown",
   "id": "c52fcf59-d718-4bd6-9ee3-0d373f7bd64e",
   "metadata": {},
   "source": [
    "## Revenue Trends\n",
    "\n",
    "Visualize how the company's revenue has changed over time.\n"
   ]
  },
  {
   "cell_type": "code",
   "execution_count": null,
   "id": "bdc03c3f-5e13-48fc-ac6e-bb2351d1042c",
   "metadata": {},
   "outputs": [],
   "source": [
    "plot_revenue_per_day(sales_data)\n",
    "plot_revenue_per_week(sales_data)\n",
    "plot_revenue_per_month(sales_data)"
   ]
  },
  {
   "cell_type": "markdown",
   "id": "e3756484-2a61-413b-9172-6ef5ea335cb2",
   "metadata": {},
   "source": [
    "## Customer Spending Patterns\n",
    "\n",
    "Analyze total, average, and median spend per customer along with their purchase frequency.\n"
   ]
  },
  {
   "cell_type": "code",
   "execution_count": null,
   "id": "240a0aee-2155-4bf1-9d7b-d484818e5eed",
   "metadata": {},
   "outputs": [],
   "source": [
    "plot_customer_spending_patters(sales_data)\n",
    "plot_spend_vs_purchases(sales_data)\n",
    "plot_correlation_heatmap(sales_data)"
   ]
  },
  {
   "cell_type": "markdown",
   "id": "027bf65b-4062-40a8-9e3b-647269e56c6a",
   "metadata": {},
   "source": [
    "## Top Selling Products"
   ]
  },
  {
   "cell_type": "code",
   "execution_count": null,
   "id": "170dac7d-5bef-436d-a224-b49af1127b13",
   "metadata": {},
   "outputs": [],
   "source": [
    "plot_top_selling(sales_data)"
   ]
  },
  {
   "cell_type": "markdown",
   "id": "35d07828-cbfe-47f5-9f7c-4cd9f05fdc91",
   "metadata": {},
   "source": [
    "## ⭐ Customer Review Analysis"
   ]
  },
  {
   "cell_type": "code",
   "execution_count": null,
   "id": "db3533fb-90c3-46b8-90a0-5a25e518c00a",
   "metadata": {},
   "outputs": [],
   "source": [
    "plot_review_per_item(sales_data)\n",
    "plot_review_vs_sales(sales_data)"
   ]
  },
  {
   "cell_type": "markdown",
   "id": "b178a351-cdd8-44d4-9add-6bb5ecbf5b7e",
   "metadata": {},
   "source": [
    "## Key Takeaways\n",
    "\n",
    "- Revenue peaks during December and May .\n",
    "- Most customers spend around $100-$130 per purchase.\n",
    "- Total spend does not strongly correlate with number of purchases — some customers buy big items less frequently.\n",
    "- Higher reviews do not appear to guarantee higher sales.\n",
    "- A few products dominate revenue, despite having lower average review scores.\n",
    "\n",
    "This analysis shows how important it is to combine customer behavior, product trends, and review data when making business decisions.\n"
   ]
  }
 ],
 "metadata": {
  "kernelspec": {
   "display_name": "Python 3 (ipykernel)",
   "language": "python",
   "name": "python3"
  },
  "language_info": {
   "codemirror_mode": {
    "name": "ipython",
    "version": 3
   },
   "file_extension": ".py",
   "mimetype": "text/x-python",
   "name": "python",
   "nbconvert_exporter": "python",
   "pygments_lexer": "ipython3",
   "version": "3.13.1"
  }
 },
 "nbformat": 4,
 "nbformat_minor": 5
}
